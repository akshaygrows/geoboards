{
 "cells": [
  {
   "cell_type": "code",
   "execution_count": 2,
   "id": "6c555d46-2f44-4c3f-afe8-5bb5f6b0da68",
   "metadata": {},
   "outputs": [],
   "source": [
    "import pandas as pd\n",
    "import dash\n",
    "from dash import Dash, html, dcc\n",
    "import plotly.express as px"
   ]
  },
  {
   "cell_type": "code",
   "execution_count": 11,
   "id": "50d1d562-59c3-4679-9fb1-e134193a7323",
   "metadata": {},
   "outputs": [],
   "source": [
    "df_hubs = pd.read_excel('hubs_w_lat_lng_blr.xlsx')"
   ]
  },
  {
   "cell_type": "code",
   "execution_count": 12,
   "id": "b9acf69d-48f5-4de3-9e7d-99f353b6cd68",
   "metadata": {},
   "outputs": [
    {
     "name": "stdout",
     "output_type": "stream",
     "text": [
      "    Node ID  Warehouse ID       Node Name  Location ID      Team Names  \\\n",
      "0        18           182  UUTR-Franchise      6196975    BLR_FRH_UUTR   \n",
      "1        76           182  NGBV-Franchise      9629252    BLR_FRH_NGBV   \n",
      "2        10           182    BLR FRH ECTY      6197001    BLR_FRH_ECTY   \n",
      "3        31           182  STNG-Franchise      6196974    BLR_FRH_STNG   \n",
      "4        60           182     DS BLR BLRD      6781530    BLR_BLZ_BLRD   \n",
      "5        32           182  CMRJ-Franchise      6196973    BLR_FRH_CMRJ   \n",
      "6        72           182  WHTF-Franchise      8400010    BLR_FRH_WHTF   \n",
      "7         7           182     DS BLR HBBL      6197018  GS_BLR_LM_HBBL   \n",
      "8         1           182      DS BLR MTH      6197020          blr-lm   \n",
      "9         2           182     DS BLR BOMM      6197017          blr-lm   \n",
      "10       33           182  BLDR-Franchise      6196972    BLR_FRH_BLDR   \n",
      "11       35           182  YLHK-Franchise      6196976    BLR_FRH_YLHK   \n",
      "\n",
      "    Fuel Rate  Distance Limit Sort Codes  \\\n",
      "0           0               0   BLR/UTTR   \n",
      "1           0               0   BLR/NGBV   \n",
      "2           0             100   BLR/ECTY   \n",
      "3           0               0   BLR/STNG   \n",
      "4           3             100   BLR/BLRD   \n",
      "5           0               0   BLR/CMRJ   \n",
      "6           0               0   BLR/WHTF   \n",
      "7           3             100   BLR/HBBL   \n",
      "8           3             100   BLR/MRTH   \n",
      "9           3             100   BLR/JPNR   \n",
      "10          0               0   BLR/BLDR   \n",
      "11          0               0   BLR/YLHK   \n",
      "\n",
      "                                              Address   Contact Name  ...  \\\n",
      "0   No 179, 8th main Narayanaagar 2nd block Bangal...  Biswojit Jena  ...   \n",
      "1   F Main Rd, Papreddy Palya, 2nd Stage, Naagarab...  Biswojit Jena  ...   \n",
      "2   #672 9th cross left side hosuroad Electronic c...  Biswojit Jena  ...   \n",
      "3   18/1/2, 1st Cross Rd, Raja Ram Mohanroy Extens...  Biswojit Jena  ...   \n",
      "4   #12/10, 1st Main road, Gokula Road, Sundar Nag...          Kiran  ...   \n",
      "5   926, 13th Main, 10th cross Rd, near Srinagar B...  Biswojit Jena  ...   \n",
      "6   No.13 N homes near SLV provision store offsite...  Biswojit Jena  ...   \n",
      "7   46 , guddadahalli circle guddadahalli main roa...  Biswojit Jena  ...   \n",
      "8   WMXX+V8R, Marathahalli Village, Marathahalli, ...  Biswojit Jena  ...   \n",
      "9   No. L/F , 2/1, B.D.A Flats 2nd Main, Bannergha...  Biswojit Jena  ...   \n",
      "10  22/1A, 22/1B, Kariyammana Agrahara Rd, Kadubee...  Biswojit Jena  ...   \n",
      "11  Y V rammayya garden,gkvk post allasandra,Yelah...  Biswojit Jena  ...   \n",
      "\n",
      "    City Name                                        Slot Config  \\\n",
      "0   Bangalore  [{\"name\":\"9AM - 4PM\",\"startTime\":\"00:00\",\"disp...   \n",
      "1   Bangalore                                                NaN   \n",
      "2   Bangalore  [{\"name\":\"9AM - 4PM\",\"startTime\":\"00:00\",\"disp...   \n",
      "3   Bangalore                                                NaN   \n",
      "4   Bangalore                                                NaN   \n",
      "5   Bangalore                                                NaN   \n",
      "6   Bangalore                                                NaN   \n",
      "7   Bangalore  [{\"name\":\"9AM - 4PM\",\"startTime\":\"00:00\",\"disp...   \n",
      "8   Bangalore  [{\"name\":\"9AM - 4PM\",\"startTime\":\"00:00\",\"disp...   \n",
      "9   Bangalore  [{\"name\":\"9AM - 4PM\",\"startTime\":\"00:00\",\"disp...   \n",
      "10  Bangalore                                                NaN   \n",
      "11  Bangalore                                                NaN   \n",
      "\n",
      "                                             Clusters       Gst Number  \\\n",
      "0                                           {UTTR-12}  29AAJCB5174E1ZJ   \n",
      "1                                 {\"NGBV-10,RRNG-11\"}  29AAJCB5174E1ZJ   \n",
      "2                           {BOMN-02,ECTY-01,BNGR-01}  29AAJCB5174E1ZJ   \n",
      "3                                           {STNG-09}  29AAJCB5174E1ZJ   \n",
      "4                                              {BLRD}  29AAJCB5174E1ZJ   \n",
      "5                                           {CMRJ-13}  29AAJCB5174E1ZJ   \n",
      "6                                           {WHTF-05}  29AAJCB5174E1ZJ   \n",
      "7   {RTNG,HBBL-02,RJNR-07,NGWR-06,RTNG-08,VDNP-03,...  29AAJCB5174E1ZJ   \n",
      "8   {DODD-08,HODI-04,HAL-03,ULSR-10,WHTF,INGR-09,V...  29AAJCB5174E1ZJ   \n",
      "9   {NGBV-10,JPNR-07,BTM-04,KRMT-09,BNGR-01,JYNG-0...  29AAJCB5174E1ZJ   \n",
      "10                                          {BLDR-07}  29AAJCB5174E1ZJ   \n",
      "11                                          {YLHK-05}  29AAJCB5174E1ZJ   \n",
      "\n",
      "   Actual City Name Is Rider App Is Number Masking          Node Config  \\\n",
      "0         Bangalore         True              True  [{\"penalty\" : 100}]   \n",
      "1         Bangalore         True              True                  NaN   \n",
      "2         Bangalore         True              True  [{\"penalty\" : 100}]   \n",
      "3         Bangalore         True              True  [{\"penalty\" : 100}]   \n",
      "4         Bangalore         True              True                  NaN   \n",
      "5         Bangalore         True              True  [{\"penalty\" : 100}]   \n",
      "6         Bangalore         True              True                  NaN   \n",
      "7         Bangalore         True              True  [{\"penalty\" : 100}]   \n",
      "8         Bangalore         True              True  [{\"penalty\" : 100}]   \n",
      "9         Bangalore         True              True  [{\"penalty\" : 100}]   \n",
      "10        Bangalore         True              True  [{\"penalty\" : 100}]   \n",
      "11        Bangalore         True              True  [{\"penalty\" : 100}]   \n",
      "\n",
      "          Lat       Long  \n",
      "0   12.873874  77.552182  \n",
      "1   12.968261  77.508837  \n",
      "2   12.871797  77.656006  \n",
      "3   12.959723  77.592846  \n",
      "4   13.044698  77.557321  \n",
      "5   12.947450  77.554126  \n",
      "6   12.988187  77.771132  \n",
      "7   13.039184  77.596260  \n",
      "8   12.949748  77.698278  \n",
      "9   12.914442  77.601537  \n",
      "10  12.940216  77.693209  \n",
      "11  13.087939  77.589138  \n",
      "\n",
      "[12 rows x 23 columns]\n"
     ]
    }
   ],
   "source": [
    "print(df_hubs)"
   ]
  },
  {
   "cell_type": "code",
   "execution_count": 13,
   "id": "6f53d321-bf3c-4b4b-8018-5871a78e7752",
   "metadata": {},
   "outputs": [
    {
     "name": "stdout",
     "output_type": "stream",
     "text": [
      "          Lat       Long\n",
      "0   12.873874  77.552182\n",
      "1   12.968261  77.508837\n",
      "2   12.871797  77.656006\n",
      "3   12.959723  77.592846\n",
      "4   13.044698  77.557321\n",
      "5   12.947450  77.554126\n",
      "6   12.988187  77.771132\n",
      "7   13.039184  77.596260\n",
      "8   12.949748  77.698278\n",
      "9   12.914442  77.601537\n",
      "10  12.940216  77.693209\n",
      "11  13.087939  77.589138\n"
     ]
    }
   ],
   "source": [
    "print(df_hubs[['Lat', 'Long']])"
   ]
  },
  {
   "cell_type": "code",
   "execution_count": 28,
   "id": "93c34a26-25e3-402a-ae03-2b3888312585",
   "metadata": {},
   "outputs": [
    {
     "data": {
      "text/html": [
       "\n",
       "        <iframe\n",
       "            width=\"100%\"\n",
       "            height=\"650\"\n",
       "            src=\"http://127.0.0.1:8050/\"\n",
       "            frameborder=\"0\"\n",
       "            allowfullscreen\n",
       "            \n",
       "        ></iframe>\n",
       "        "
      ],
      "text/plain": [
       "<IPython.lib.display.IFrame at 0x111daeac0>"
      ]
     },
     "metadata": {},
     "output_type": "display_data"
    }
   ],
   "source": [
    "# Initialize the app\n",
    "app = Dash(__name__)\n",
    "\n",
    "# Define app layout\n",
    "app.layout = html.Div([\n",
    "    html.H1(\"Hub Locations\", style={'text-align': 'center'}),\n",
    "    dcc.Graph(\n",
    "        id='map',\n",
    "        figure=px.scatter_mapbox(\n",
    "            df_hubs,\n",
    "            lat='Lat',\n",
    "            lon='Long',\n",
    "            hover_name='Node Name',\n",
    "            hover_data={'Lat': False, 'Long': False},\n",
    "            color='Node Type',  # Map node_type to marker color\n",
    "            color_discrete_map={\n",
    "                'central_hub': 'blue',     # Set blue color for central_hub\n",
    "                'lm_hub': 'green',         # Set green color for lm_hub\n",
    "                'franchise_hub': 'red'     # Set red color for franchise_hub\n",
    "            },\n",
    "            zoom=10,\n",
    "            height=600\n",
    "        ).update_traces(marker=dict(size=10))  # Adjust the size of the markers here\n",
    "          .update_layout(\n",
    "              mapbox_style=\"carto-positron\",\n",
    "              legend=dict(\n",
    "                  orientation=\"v\",       # Set legend orientation to vertical\n",
    "                  yanchor=\"top\",\n",
    "                  y=0.99,\n",
    "                  xanchor=\"left\",\n",
    "                  x=0.01\n",
    "              ),\n",
    "              margin={\"r\":0,\"t\":0,\"l\":0,\"b\":0}  # Optional: Remove margins for better map view\n",
    "          )\n",
    "    )\n",
    "])\n",
    "\n",
    "# Run the app\n",
    "if __name__ == '__main__':\n",
    "    app.run_server(debug=True)\n"
   ]
  }
 ],
 "metadata": {
  "kernelspec": {
   "display_name": "Python 3 (ipykernel)",
   "language": "python",
   "name": "python3"
  },
  "language_info": {
   "codemirror_mode": {
    "name": "ipython",
    "version": 3
   },
   "file_extension": ".py",
   "mimetype": "text/x-python",
   "name": "python",
   "nbconvert_exporter": "python",
   "pygments_lexer": "ipython3",
   "version": "3.9.6"
  }
 },
 "nbformat": 4,
 "nbformat_minor": 5
}
