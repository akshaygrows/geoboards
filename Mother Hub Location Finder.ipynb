{
 "cells": [
  {
   "cell_type": "code",
   "execution_count": 1,
   "id": "16b3f22a-ca78-4759-a1fa-2351ec51548a",
   "metadata": {},
   "outputs": [
    {
     "name": "stderr",
     "output_type": "stream",
     "text": [
      "/home/rajat/anaconda3/envs/gisenv/lib/python3.11/site-packages/paramiko/transport.py:219: CryptographyDeprecationWarning: Blowfish has been deprecated and will be removed in a future release\n",
      "  \"class\": algorithms.Blowfish,\n"
     ]
    }
   ],
   "source": [
    "from sshtunnel import SSHTunnelForwarder\n",
    "import psycopg2 as psy\n",
    "import pandas as pd\n",
    "from IPython.display import FileLink\n",
    "import geopandas as gpd\n",
    "import plotly.express as px\n",
    "from dash import Dash, dcc, html, Input, Output\n",
    "import paramiko\n",
    "from io import StringIO\n",
    "from shapely.geometry import MultiPoint, MultiPolygon\n",
    "import scipy\n",
    "import scipy.cluster\n",
    "from shapely.ops import unary_union\n",
    "import calendar\n",
    "from datetime import datetime"
   ]
  },
  {
   "cell_type": "code",
   "execution_count": 2,
   "id": "1063cd24-77af-4bb3-86d5-3cbd2f8b401f",
   "metadata": {},
   "outputs": [],
   "source": [
    "def get_conn_postgres(SSH_required,key_path):   #for getting a connection as a result\n",
    "\n",
    "    db='datawarehouse'\n",
    "    DB_HOST='datawarehouse.cdgpvetprks3.ap-south-1.rds.amazonaws.com'\n",
    "    conn = []\n",
    "    if SSH_required == 'Yes':\n",
    "        SSH_HOST='ec2-15-206-161-154.ap-south-1.compute.amazonaws.com'\n",
    "        #LOCALHOST=\"0.0.0.0\"\n",
    "        ssh_tunnel= SSHTunnelForwarder(\n",
    "                (SSH_HOST, 22),\n",
    "                ssh_username=\"ec2-user\",\n",
    "                ssh_private_key= key_path,\n",
    "                ssh_private_key_password= \"\",\n",
    "                remote_bind_address=(DB_HOST, 5432),\n",
    "                local_bind_address=('127.0.0.1', 0)\n",
    "        )\n",
    "        print('Tunnel Started')\n",
    "        ssh_tunnel.start()\n",
    "        conn = psy.connect(\n",
    "            host=ssh_tunnel.local_bind_host,\n",
    "            port=ssh_tunnel.local_bind_port,\n",
    "            user='postgres',\n",
    "            password= \"Simply1234\",\n",
    "            database='postgres')\n",
    "        print('Connection Made')\n",
    "        return conn\n",
    "    else:\n",
    "        conn = psy.connect(\n",
    "            host = DB_HOST,\n",
    "            port = 5432,\n",
    "            user = 'postgres',\n",
    "            password= \"Simply1234\",\n",
    "            database='postgres')\n",
    "        print('Connection Made')\n",
    "        return conn"
   ]
  },
  {
   "cell_type": "code",
   "execution_count": 3,
   "id": "9718aab1-049a-4246-8b89-ffd7cd0240ab",
   "metadata": {},
   "outputs": [],
   "source": [
    "def get_df_from_sql_postgres(SSH_required, query,key_path):   #for getting a datafarame as a result\n",
    "\n",
    "    db='datawarehouse'\n",
    "    DB_HOST='datawarehouse.cdgpvetprks3.ap-south-1.rds.amazonaws.com'\n",
    "    conn = None\n",
    "    if SSH_required == 'Yes':\n",
    "        SSH_HOST='ec2-15-206-161-154.ap-south-1.compute.amazonaws.com'\n",
    "        #LOCALHOST=\"0.0.0.0\"\n",
    "        ssh_tunnel= SSHTunnelForwarder(\n",
    "                (SSH_HOST, 22),\n",
    "                ssh_username=\"ec2-user\",\n",
    "                ssh_private_key= key_path,\n",
    "                ssh_private_key_password= \"\",\n",
    "                remote_bind_address=(DB_HOST, 5432),\n",
    "                local_bind_address=('127.0.0.1', 0)\n",
    "        )\n",
    "        # ssh_tunnel._server_list[0].block_on_close = False\n",
    "        ssh_tunnel.start()\n",
    "        conn = psy.connect(\n",
    "            host=ssh_tunnel.local_bind_host,\n",
    "            port=ssh_tunnel.local_bind_port,\n",
    "            user='postgres',\n",
    "            password= \"Simply1234\",\n",
    "            database='postgres')\n",
    "        df_results = pd.read_sql(query, conn)\n",
    "        conn.close()\n",
    "        ssh_tunnel.stop()\n",
    "        return df_results\n",
    "    else:\n",
    "        conn = psy.connect(\n",
    "            host = DB_HOST,\n",
    "            port = 5432,\n",
    "            user = 'postgres',\n",
    "            password= \"Simply1234\",\n",
    "            database='postgres')\n",
    "        df_results = pd.read_sql(query, conn)\n",
    "        conn.close()\n",
    "        return df_results"
   ]
  },
  {
   "cell_type": "code",
   "execution_count": 7,
   "id": "f2a46bf0-7ee5-4980-a0a5-dd4a9d20ebee",
   "metadata": {},
   "outputs": [
    {
     "name": "stdout",
     "output_type": "stream",
     "text": [
      "Tunnel Started\n",
      "Connection Made\n",
      "                                      warehouse_name last_mile_hub  orders\n",
      "0  15 Ground Floor, SY No  131 3, Hoskote, Anjane...          BLDR      67\n",
      "1  15 Ground Floor, SY No  131 3, Hoskote, Anjane...          CMRJ       8\n",
      "2  15 Ground Floor, SY No  131 3, Hoskote, Anjane...          ECTY      29\n",
      "3  15 Ground Floor, SY No  131 3, Hoskote, Anjane...          HBBL      36\n",
      "4  15 Ground Floor, SY No  131 3, Hoskote, Anjane...          JPNR      79\n"
     ]
    }
   ],
   "source": [
    "SSH_required = 'Yes'\n",
    "key_path = '/home/rajat/Downloads/tunnel-ssh .cer'\n",
    "query = \"select * from public.ops_main where date_trunc('month', created_date) = '2024-01-01' and shipping_partner = 'Hyperlocal'\"\n",
    "query = \"select warehouse_name, last_mile_hub, count(*) as orders from public.ops_main where date_trunc('month', created_date) = date_trunc('month', now()) and shipping_partner = 'Hyperlocal' group by warehouse_name, last_mile_hub;\"\n",
    "# Establish a connection\n",
    "conn = get_conn_postgres(SSH_required, key_path)\n",
    "\n",
    "# Retrieve data into a DataFrame\n",
    "df_ops_main = get_df_from_sql_postgres(SSH_required, query, key_path)\n",
    "\n",
    "# Now you can perform further operations with the DataFrame\n",
    "print(df_ops_main.head())"
   ]
  },
  {
   "cell_type": "code",
   "execution_count": null,
   "id": "151d4022-96e8-4906-afb9-c2357a8cdfa5",
   "metadata": {},
   "outputs": [],
   "source": [
    "# Load warehouse and hubs dataframes with lat long"
   ]
  },
  {
   "cell_type": "code",
   "execution_count": null,
   "id": "02c7f320-9a28-437c-ae86-6f4c0e27f23d",
   "metadata": {},
   "outputs": [],
   "source": [
    "# # Fixed motherhub location\n",
    "# fixed_motherhub = (23.2599, 77.4126)"
   ]
  },
  {
   "cell_type": "code",
   "execution_count": 8,
   "id": "228e503c-9cad-4469-90b1-98bc26cf9931",
   "metadata": {},
   "outputs": [],
   "source": [
    "def total_distance(new_motherhub, orders, fixed_motherhub):\n",
    "    total_dist = 0\n",
    "\n",
    "    # Calculate combined distances for each order\n",
    "    for _, row in orders.iterrows():\n",
    "        client_location = (row['client_latitude'], row['client_longitude'])\n",
    "        last_mile_location = (row['last_mile_latitude'], row['last_mile_longitude'])\n",
    "        \n",
    "        # Distances to fixed motherhub\n",
    "        dist_client_to_fixed = great_circle(client_location, fixed_motherhub).km\n",
    "        dist_fixed_to_last_mile = great_circle(fixed_motherhub, last_mile_location).km\n",
    "        total_dist_fixed = dist_client_to_fixed + dist_fixed_to_last_mile\n",
    "        \n",
    "        # Distances to new motherhub\n",
    "        dist_client_to_new = great_circle(client_location, new_motherhub).km\n",
    "        dist_new_to_last_mile = great_circle(new_motherhub, last_mile_location).km\n",
    "        total_dist_new = dist_client_to_new + dist_new_to_last_mile\n",
    "        \n",
    "        # Choose the smaller distance for this order\n",
    "        total_dist += row['orders'] * min(total_dist_fixed, total_dist_new)\n",
    "    \n",
    "    return total_dist"
   ]
  },
  {
   "cell_type": "code",
   "execution_count": null,
   "id": "3393b46e-0314-4e63-a58f-d40d5d05656c",
   "metadata": {},
   "outputs": [],
   "source": [
    "# Initial guess for new motherhub location (mean of existing locations)\n",
    "initial_guess = (\n",
    "    orders['client_latitude'].mean(),\n",
    "    orders['client_longitude'].mean()\n",
    ")"
   ]
  },
  {
   "cell_type": "code",
   "execution_count": 2,
   "id": "54cdb296-fb0a-47cf-8906-332099f24a51",
   "metadata": {},
   "outputs": [],
   "source": [
    "#cost should not go above a limit\n",
    "#cost can be defined with rwith centre as centre"
   ]
  },
  {
   "cell_type": "code",
   "execution_count": null,
   "id": "69628d6d-5c81-44ed-9d8c-498c7fd32bc8",
   "metadata": {},
   "outputs": [],
   "source": [
    "# Optimization to find the best location for the new motherhub\n",
    "result = minimize(total_distance, initial_guess, args=(orders, fixed_motherhub), method='Nelder-Mead')"
   ]
  },
  {
   "cell_type": "code",
   "execution_count": null,
   "id": "a9d26943-fc28-4e62-beeb-659e6cd21ac0",
   "metadata": {},
   "outputs": [],
   "source": [
    "new_motherhub_location = result.x\n",
    "print(\"Optimal location for new motherhub:\", new_motherhub_location)"
   ]
  }
 ],
 "metadata": {
  "kernelspec": {
   "display_name": "Python 3 (ipykernel)",
   "language": "python",
   "name": "python3"
  },
  "language_info": {
   "codemirror_mode": {
    "name": "ipython",
    "version": 3
   },
   "file_extension": ".py",
   "mimetype": "text/x-python",
   "name": "python",
   "nbconvert_exporter": "python",
   "pygments_lexer": "ipython3",
   "version": "3.11.9"
  }
 },
 "nbformat": 4,
 "nbformat_minor": 5
}
