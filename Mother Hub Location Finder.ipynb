{
 "cells": [
  {
   "cell_type": "code",
   "execution_count": 1,
   "id": "16b3f22a-ca78-4759-a1fa-2351ec51548a",
   "metadata": {},
   "outputs": [
    {
     "name": "stderr",
     "output_type": "stream",
     "text": [
      "/home/rajat/anaconda3/envs/gisenv/lib/python3.11/site-packages/paramiko/transport.py:219: CryptographyDeprecationWarning: Blowfish has been deprecated and will be removed in a future release\n",
      "  \"class\": algorithms.Blowfish,\n"
     ]
    }
   ],
   "source": [
    "from sshtunnel import SSHTunnelForwarder\n",
    "import psycopg2 as psy\n",
    "import pandas as pd\n",
    "from IPython.display import FileLink\n",
    "import geopandas as gpd\n",
    "import plotly.express as px\n",
    "from dash import Dash, dcc, html, Input, Output\n",
    "import paramiko\n",
    "from io import StringIO\n",
    "from shapely.geometry import MultiPoint, MultiPolygon\n",
    "import scipy\n",
    "import scipy.cluster\n",
    "from shapely.ops import unary_union\n",
    "import calendar\n",
    "from datetime import datetime"
   ]
  },
  {
   "cell_type": "code",
   "execution_count": 3,
   "id": "1063cd24-77af-4bb3-86d5-3cbd2f8b401f",
   "metadata": {},
   "outputs": [],
   "source": [
    "def get_conn_postgres(SSH_required,key_path):   #for getting a connection as a result\n",
    "\n",
    "    db='datawarehouse'\n",
    "    DB_HOST='datawarehouse.cdgpvetprks3.ap-south-1.rds.amazonaws.com'\n",
    "    conn = []\n",
    "    if SSH_required == 'Yes':\n",
    "        SSH_HOST='ec2-15-206-161-154.ap-south-1.compute.amazonaws.com'\n",
    "        #LOCALHOST=\"0.0.0.0\"\n",
    "        ssh_tunnel= SSHTunnelForwarder(\n",
    "                (SSH_HOST, 22),\n",
    "                ssh_username=\"ec2-user\",\n",
    "                ssh_private_key= key_path,\n",
    "                ssh_private_key_password= \"\",\n",
    "                remote_bind_address=(DB_HOST, 5432),\n",
    "                local_bind_address=('127.0.0.1', 0)\n",
    "        )\n",
    "        print('Tunnel Started')\n",
    "        ssh_tunnel.start()\n",
    "        conn = psy.connect(\n",
    "            host=ssh_tunnel.local_bind_host,\n",
    "            port=ssh_tunnel.local_bind_port,\n",
    "            user='postgres',\n",
    "            password= \"Simply1234\",\n",
    "            database='postgres')\n",
    "        print('Connection Made')\n",
    "        return conn\n",
    "    else:\n",
    "        conn = psy.connect(\n",
    "            host = DB_HOST,\n",
    "            port = 5432,\n",
    "            user = 'postgres',\n",
    "            password= \"Simply1234\",\n",
    "            database='postgres')\n",
    "        print('Connection Made')\n",
    "        return conn"
   ]
  },
  {
   "cell_type": "code",
   "execution_count": 4,
   "id": "9718aab1-049a-4246-8b89-ffd7cd0240ab",
   "metadata": {},
   "outputs": [],
   "source": [
    "def get_df_from_sql_postgres(SSH_required, query,key_path):   #for getting a datafarame as a result\n",
    "\n",
    "    db='datawarehouse'\n",
    "    DB_HOST='datawarehouse.cdgpvetprks3.ap-south-1.rds.amazonaws.com'\n",
    "    conn = None\n",
    "    if SSH_required == 'Yes':\n",
    "        SSH_HOST='ec2-15-206-161-154.ap-south-1.compute.amazonaws.com'\n",
    "        #LOCALHOST=\"0.0.0.0\"\n",
    "        ssh_tunnel= SSHTunnelForwarder(\n",
    "                (SSH_HOST, 22),\n",
    "                ssh_username=\"ec2-user\",\n",
    "                ssh_private_key= key_path,\n",
    "                ssh_private_key_password= \"\",\n",
    "                remote_bind_address=(DB_HOST, 5432),\n",
    "                local_bind_address=('127.0.0.1', 0)\n",
    "        )\n",
    "        # ssh_tunnel._server_list[0].block_on_close = False\n",
    "        ssh_tunnel.start()\n",
    "        conn = psy.connect(\n",
    "            host=ssh_tunnel.local_bind_host,\n",
    "            port=ssh_tunnel.local_bind_port,\n",
    "            user='postgres',\n",
    "            password= \"Simply1234\",\n",
    "            database='postgres')\n",
    "        df_results = pd.read_sql(query, conn)\n",
    "        conn.close()\n",
    "        ssh_tunnel.stop()\n",
    "        return df_results\n",
    "    else:\n",
    "        conn = psy.connect(\n",
    "            host = DB_HOST,\n",
    "            port = 5432,\n",
    "            user = 'postgres',\n",
    "            password= \"Simply1234\",\n",
    "            database='postgres')\n",
    "        df_results = pd.read_sql(query, conn)\n",
    "        conn.close()\n",
    "        return df_results"
   ]
  },
  {
   "cell_type": "code",
   "execution_count": 10,
   "id": "f2a46bf0-7ee5-4980-a0a5-dd4a9d20ebee",
   "metadata": {},
   "outputs": [
    {
     "name": "stdout",
     "output_type": "stream",
     "text": [
      "Tunnel Started\n",
      "Connection Made\n",
      "                                      warehouse_name last_mile_hub  orders\n",
      "0  15 Ground Floor, SY No  131 3, Hoskote, Anjane...          BLDR      97\n",
      "1  15 Ground Floor, SY No  131 3, Hoskote, Anjane...          CMRJ      11\n",
      "2  15 Ground Floor, SY No  131 3, Hoskote, Anjane...          ECTY      44\n",
      "3  15 Ground Floor, SY No  131 3, Hoskote, Anjane...          HBBL      45\n",
      "4  15 Ground Floor, SY No  131 3, Hoskote, Anjane...          JPNR     100\n"
     ]
    }
   ],
   "source": [
    "SSH_required = 'Yes'\n",
    "key_path = '/home/rajat/Downloads/tunnel-ssh .cer'\n",
    "query = \"select warehouse_name, last_mile_hub, count(*) as orders from public.ops_main where date_trunc('month', created_date) >= date_trunc('month', now() - interval'1 month') and shipping_partner = 'Hyperlocal' and shipping_city = 'Bangalore' and warehouse_city = 'Bangalore' group by warehouse_name, last_mile_hub;\"\n",
    "# Establish a connection\n",
    "conn = get_conn_postgres(SSH_required, key_path)\n",
    "\n",
    "# Retrieve data into a DataFrame\n",
    "df_ops_main = get_df_from_sql_postgres(SSH_required, query, key_path)\n",
    "\n",
    "# Now you can perform further operations with the DataFrame\n",
    "print(df_ops_main.head())"
   ]
  },
  {
   "cell_type": "code",
   "execution_count": 8,
   "id": "151d4022-96e8-4906-afb9-c2357a8cdfa5",
   "metadata": {},
   "outputs": [],
   "source": [
    "df_warehouse = pd.read_csv('warehouses_w_lat_lng_blr.csv')\n",
    "df_hubs = pd.read_csv('hubs_w_lat_lng_blr.csv')"
   ]
  },
  {
   "cell_type": "code",
   "execution_count": 9,
   "id": "66b97d93-ae07-4f16-aee5-d86d3c5a1844",
   "metadata": {},
   "outputs": [
    {
     "name": "stdout",
     "output_type": "stream",
     "text": [
      "   warehouse_int_id  warehouse_id          warehouse_name  \\\n",
      "0              1467        Source                  Source   \n",
      "1              1486           RK6                     RK6   \n",
      "2                14  WE_Bangalore  WE Warehouse Bangalore   \n",
      "3              1507            QA                      QA   \n",
      "4              1543      Damensch                Damensch   \n",
      "\n",
      "        warehouse_gstin  warehouse_phone warehouse_address warehouse_city  \\\n",
      "0       763872749872983  728197387298133            Source      Bangalore   \n",
      "1  93289498239849234234       7893749879               RK6      Bangalore   \n",
      "2                sodjgh       9455500191               NaN      Bangalore   \n",
      "3       123232323245656             4545             DGDFG      Bangalore   \n",
      "4                 NOGST       6363407643             Dummy      Bangalore   \n",
      "\n",
      "  warehouse_state  warehouse_pincode     contact_name   contact_number wms_id  \\\n",
      "0       Karnataka             560037           Source  728197387298133      1   \n",
      "1       Karnataka             560034              RK6      89898989898   TPv1   \n",
      "2       Karnataka             560067  Mayank Varshney       9455500191      3   \n",
      "3       Karnataka             560043            ETRET             4545    368   \n",
      "4       Karnataka             560008         fhuwdjq`      89898989898   TPv8   \n",
      "\n",
      "  op_owner  shipping_auto  stock_tracking                  lat_long  \n",
      "0        1           True           False   [12.9427767, 77.615904]  \n",
      "1     TPv1           True            True  [12.9715987, 77.5945627]  \n",
      "2        3           True            True                       NaN  \n",
      "3      368           True           False  [12.9715987, 77.5945627]  \n",
      "4     TPv8           True            True  [12.9165757, 77.6101163]  \n",
      "   node_id  warehouse_id       node_name  location_id    team_names  \\\n",
      "0       18           182  UUTR-Franchise            1  BLR_FRH_UUTR   \n",
      "1       31           182  STNG-Franchise            1  BLR_FRH_STNG   \n",
      "2        2           182     DS BLR BOMM            2        blr-lm   \n",
      "3        1           182      DS BLR MTH            1        blr-lm   \n",
      "4       10           182    BLR FRH ECTY            1  BLR_FRH_ECTY   \n",
      "\n",
      "   fuel_rate  distance_limit sort_codes  \\\n",
      "0          0               0   BLR/UTTR   \n",
      "1          0               0   BLR/STNG   \n",
      "2          3             100   BLR/JPNR   \n",
      "3          3             100   BLR/MRTH   \n",
      "4          0             100   BLR/ECTY   \n",
      "\n",
      "                                             address   contact_name  \\\n",
      "0  No 179, 8th main Narayanaagar 2nd block Bangal...  Biswojit Jena   \n",
      "1  18/1/2, 1st Cross Rd, Raja Ram Mohanroy Extens...  Biswojit Jena   \n",
      "2  No. L/F , 2/1, B.D.A Flats 2nd Main, Bannergha...  Biswojit Jena   \n",
      "3  WMXX+V8R, Marathahalli Village, Marathahalli, ...  Biswojit Jena   \n",
      "4  #672 9th cross left side hosuroad Electronic c...  Biswojit Jena   \n",
      "\n",
      "   contact_phone      node_type locus_home_base_id  city_name  \\\n",
      "0     9066859089  franchise_hub   BLR_FRH_UUTR_HUB  Bangalore   \n",
      "1     9066859089  franchise_hub   BLR_FRH_STNG_HUB  Bangalore   \n",
      "2     9066859089         lm_hub          blr-lmh-2  Bangalore   \n",
      "3     9066859089    central_hub          blr-lmh-4  Bangalore   \n",
      "4     9066859089  franchise_hub     ECTY-Franchise  Bangalore   \n",
      "\n",
      "  actual_city_name                         lat_long  \n",
      "0        Bangalore  [12.8743079, 77.55229159999999]  \n",
      "1        Bangalore  [12.9594816, 77.59276179999999]  \n",
      "2        Bangalore  [12.9144032, 77.59958150000001]  \n",
      "3        Bangalore         [12.9497375, 77.6982656]  \n",
      "4        Bangalore         [12.8307773, 77.6612892]  \n"
     ]
    }
   ],
   "source": [
    "print(df_warehouse.head())\n",
    "print(df_hubs.head())"
   ]
  },
  {
   "cell_type": "code",
   "execution_count": 12,
   "id": "02c7f320-9a28-437c-ae86-6f4c0e27f23d",
   "metadata": {},
   "outputs": [
    {
     "name": "stdout",
     "output_type": "stream",
     "text": [
      "   node_id  warehouse_id   node_name  location_id team_names  fuel_rate  \\\n",
      "6        1           182  DS BLR MTH            1     blr-lm          3   \n",
      "\n",
      "   distance_limit sort_codes  \\\n",
      "6             100   BLR/MRTH   \n",
      "\n",
      "                                             address   contact_name  \\\n",
      "6  WMXX+V8R, Marathahalli Village, Marathahalli, ...  Biswojit Jena   \n",
      "\n",
      "   contact_phone    node_type locus_home_base_id  city_name actual_city_name  \\\n",
      "6     9066859089  central_hub          blr-lmh-4  Bangalore        Bangalore   \n",
      "\n",
      "                   lat_long  \n",
      "6  [12.9497375, 77.6982656]  \n"
     ]
    }
   ],
   "source": [
    "df_motherhub = df_hubs[(df_hubs['node_type'] == 'central_hub') & (df_hubs['contact_name'] == 'Biswojit Jena')]\n",
    "print(df_motherhub)"
   ]
  },
  {
   "cell_type": "code",
   "execution_count": 8,
   "id": "228e503c-9cad-4469-90b1-98bc26cf9931",
   "metadata": {},
   "outputs": [],
   "source": [
    "def total_distance(new_motherhub, orders, fixed_motherhub):\n",
    "    total_dist = 0\n",
    "\n",
    "    # Calculate combined distances for each order\n",
    "    for _, row in orders.iterrows():\n",
    "        client_location = (row['client_latitude'], row['client_longitude'])\n",
    "        last_mile_location = (row['last_mile_latitude'], row['last_mile_longitude'])\n",
    "        \n",
    "        # Distances to fixed motherhub\n",
    "        dist_client_to_fixed = great_circle(client_location, fixed_motherhub).km\n",
    "        dist_fixed_to_last_mile = great_circle(fixed_motherhub, last_mile_location).km\n",
    "        total_dist_fixed = dist_client_to_fixed + dist_fixed_to_last_mile\n",
    "        \n",
    "        # Distances to new motherhub\n",
    "        dist_client_to_new = great_circle(client_location, new_motherhub).km\n",
    "        dist_new_to_last_mile = great_circle(new_motherhub, last_mile_location).km\n",
    "        total_dist_new = dist_client_to_new + dist_new_to_last_mile\n",
    "        \n",
    "        # Choose the smaller distance for this order\n",
    "        total_dist += row['orders'] * min(total_dist_fixed, total_dist_new)\n",
    "    \n",
    "    return total_dist"
   ]
  },
  {
   "cell_type": "code",
   "execution_count": null,
   "id": "3393b46e-0314-4e63-a58f-d40d5d05656c",
   "metadata": {},
   "outputs": [],
   "source": [
    "# Initial guess for new motherhub location (mean of existing locations)\n",
    "initial_guess = (\n",
    "    orders['client_latitude'].mean(),\n",
    "    orders['client_longitude'].mean()\n",
    ")"
   ]
  },
  {
   "cell_type": "code",
   "execution_count": 2,
   "id": "54cdb296-fb0a-47cf-8906-332099f24a51",
   "metadata": {},
   "outputs": [],
   "source": [
    "#cost should not go above a limit\n",
    "#cost can be defined with rwith centre as centre"
   ]
  },
  {
   "cell_type": "code",
   "execution_count": null,
   "id": "69628d6d-5c81-44ed-9d8c-498c7fd32bc8",
   "metadata": {},
   "outputs": [],
   "source": [
    "# Optimization to find the best location for the new motherhub\n",
    "result = minimize(total_distance, initial_guess, args=(orders, fixed_motherhub), method='Nelder-Mead')"
   ]
  },
  {
   "cell_type": "code",
   "execution_count": null,
   "id": "a9d26943-fc28-4e62-beeb-659e6cd21ac0",
   "metadata": {},
   "outputs": [],
   "source": [
    "new_motherhub_location = result.x\n",
    "print(\"Optimal location for new motherhub:\", new_motherhub_location)"
   ]
  }
 ],
 "metadata": {
  "kernelspec": {
   "display_name": "Python 3 (ipykernel)",
   "language": "python",
   "name": "python3"
  },
  "language_info": {
   "codemirror_mode": {
    "name": "ipython",
    "version": 3
   },
   "file_extension": ".py",
   "mimetype": "text/x-python",
   "name": "python",
   "nbconvert_exporter": "python",
   "pygments_lexer": "ipython3",
   "version": "3.11.9"
  }
 },
 "nbformat": 4,
 "nbformat_minor": 5
}
