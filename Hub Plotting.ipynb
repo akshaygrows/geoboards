{
 "cells": [
  {
   "cell_type": "code",
   "execution_count": 1,
   "id": "6c555d46-2f44-4c3f-afe8-5bb5f6b0da68",
   "metadata": {},
   "outputs": [
    {
     "name": "stderr",
     "output_type": "stream",
     "text": [
      "/Users/rajatsansaniwal/git_geoboards/geoboards/.venv/lib/python3.9/site-packages/urllib3/__init__.py:35: NotOpenSSLWarning: urllib3 v2 only supports OpenSSL 1.1.1+, currently the 'ssl' module is compiled with 'LibreSSL 2.8.3'. See: https://github.com/urllib3/urllib3/issues/3020\n",
      "  warnings.warn(\n"
     ]
    }
   ],
   "source": [
    "import pandas as pd\n",
    "import dash\n",
    "from dash import Dash, html, dcc\n",
    "import plotly.express as px"
   ]
  },
  {
   "cell_type": "code",
   "execution_count": 2,
   "id": "50d1d562-59c3-4679-9fb1-e134193a7323",
   "metadata": {},
   "outputs": [],
   "source": [
    "df_hubs = pd.read_csv('hubs_w_lat_lng_blr.csv')"
   ]
  },
  {
   "cell_type": "code",
   "execution_count": 3,
   "id": "b9acf69d-48f5-4de3-9e7d-99f353b6cd68",
   "metadata": {},
   "outputs": [
    {
     "name": "stdout",
     "output_type": "stream",
     "text": [
      "   node_id  warehouse_id       node_name  location_id      team_names  \\\n",
      "0       18           182  UUTR-Franchise            1    BLR_FRH_UUTR   \n",
      "1       31           182  STNG-Franchise            1    BLR_FRH_STNG   \n",
      "2        2           182     DS BLR BOMM            2          blr-lm   \n",
      "3        1           182      DS BLR MTH            1          blr-lm   \n",
      "4       10           182    BLR FRH ECTY            1    BLR_FRH_ECTY   \n",
      "5        7           182     DS BLR HBBL            1  GS_BLR_LM_HBBL   \n",
      "6       33           182  BLDR-Franchise            1    BLR_FRH_BLDR   \n",
      "7       32           182  CMRJ-Franchise            1    BLR_FRH_CMRJ   \n",
      "8       35           182  YLHK-Franchise            1    BLR_FRH_YLHK   \n",
      "\n",
      "   fuel_rate  distance_limit sort_codes  \\\n",
      "0          0               0   BLR/UTTR   \n",
      "1          0               0   BLR/STNG   \n",
      "2          3             100   BLR/JPNR   \n",
      "3          3             100   BLR/MRTH   \n",
      "4          0             100   BLR/ECTY   \n",
      "5          3             100   BLR/HBBL   \n",
      "6          0               0   BLR/BLDR   \n",
      "7          0               0   BLR/CMRJ   \n",
      "8          0               0   BLR/YLHK   \n",
      "\n",
      "                                             address   contact_name  \\\n",
      "0  No 179, 8th main Narayanaagar 2nd block Bangal...  Biswojit Jena   \n",
      "1  18/1/2, 1st Cross Rd, Raja Ram Mohanroy Extens...  Biswojit Jena   \n",
      "2  No. L/F , 2/1, B.D.A Flats 2nd Main, Bannergha...  Biswojit Jena   \n",
      "3  WMXX+V8R, Marathahalli Village, Marathahalli, ...  Biswojit Jena   \n",
      "4  #672 9th cross left side hosuroad Electronic c...  Biswojit Jena   \n",
      "5  46 , guddadahalli circle guddadahalli main roa...  Biswojit Jena   \n",
      "6  22/1A, 22/1B, Kariyammana Agrahara Rd, Kadubee...  Biswojit Jena   \n",
      "7  926, 13th Main, 10th cross Rd, near Srinagar B...  Biswojit Jena   \n",
      "8  Y V rammayya garden,gkvk post allasandra,Yelah...  Biswojit Jena   \n",
      "\n",
      "   contact_phone      node_type locus_home_base_id  city_name  \\\n",
      "0     9066859089  franchise_hub   BLR_FRH_UUTR_HUB  Bangalore   \n",
      "1     9066859089  franchise_hub   BLR_FRH_STNG_HUB  Bangalore   \n",
      "2     9066859089         lm_hub          blr-lmh-2  Bangalore   \n",
      "3     9066859089    central_hub          blr-lmh-4  Bangalore   \n",
      "4     9066859089  franchise_hub     ECTY-Franchise  Bangalore   \n",
      "5     9066859089         lm_hub          blr-lmh-3  Bangalore   \n",
      "6     9066859089  franchise_hub   BLR_FRH_BLDR_HUB  Bangalore   \n",
      "7     9066859089  franchise_hub   BLR_FRH_CMRJ_HUB  Bangalore   \n",
      "8     9066859089  franchise_hub   BLR_FRH_YLHK_HUB  Bangalore   \n",
      "\n",
      "  actual_city_name                         lat_long  \n",
      "0        Bangalore  [12.8743079, 77.55229159999999]  \n",
      "1        Bangalore  [12.9594816, 77.59276179999999]  \n",
      "2        Bangalore  [12.9144032, 77.59958150000001]  \n",
      "3        Bangalore         [12.9497375, 77.6982656]  \n",
      "4        Bangalore         [12.8307773, 77.6612892]  \n",
      "5        Bangalore          [13.0405585, 77.595625]  \n",
      "6        Bangalore         [12.9394122, 77.6921294]  \n",
      "7        Bangalore         [12.9467756, 77.5519109]  \n",
      "8        Bangalore          [13.0725756, 77.592424]  \n"
     ]
    }
   ],
   "source": [
    "print(df_hubs)"
   ]
  },
  {
   "cell_type": "code",
   "execution_count": 4,
   "id": "6f53d321-bf3c-4b4b-8018-5871a78e7752",
   "metadata": {},
   "outputs": [
    {
     "name": "stdout",
     "output_type": "stream",
     "text": [
      "    latitude  longitude\n",
      "0  12.874308  77.552292\n",
      "1  12.959482  77.592762\n",
      "2  12.914403  77.599582\n",
      "3  12.949737  77.698266\n",
      "4  12.830777  77.661289\n",
      "5  13.040558  77.595625\n",
      "6  12.939412  77.692129\n",
      "7  12.946776  77.551911\n",
      "8  13.072576  77.592424\n"
     ]
    }
   ],
   "source": [
    "# Convert strings in lat_long column to lists\n",
    "df_hubs['lat_long'] = df_hubs['lat_long'].apply(eval)\n",
    "\n",
    "# Extract latitude and longitude values from lat_long column\n",
    "df_hubs['latitude'] = df_hubs['lat_long'].apply(lambda x: x[0])\n",
    "df_hubs['longitude'] = df_hubs['lat_long'].apply(lambda x: x[1])\n",
    "\n",
    "print(df_hubs[['latitude', 'longitude']])"
   ]
  },
  {
   "cell_type": "code",
   "execution_count": 5,
   "id": "93c34a26-25e3-402a-ae03-2b3888312585",
   "metadata": {},
   "outputs": [
    {
     "data": {
      "text/html": [
       "\n",
       "        <iframe\n",
       "            width=\"100%\"\n",
       "            height=\"650\"\n",
       "            src=\"http://127.0.0.1:8050/\"\n",
       "            frameborder=\"0\"\n",
       "            allowfullscreen\n",
       "            \n",
       "        ></iframe>\n",
       "        "
      ],
      "text/plain": [
       "<IPython.lib.display.IFrame at 0x114f06d00>"
      ]
     },
     "metadata": {},
     "output_type": "display_data"
    }
   ],
   "source": [
    "# Initialize the app\n",
    "app = Dash(__name__)\n",
    "\n",
    "# Define app layout\n",
    "app.layout = html.Div([\n",
    "    html.H1(\"Hub Locations\", style={'text-align': 'center'}),\n",
    "    dcc.Graph(\n",
    "        id='map',\n",
    "        figure=px.scatter_mapbox(\n",
    "            df_hubs.dropna(subset=['latitude', 'longitude']),\n",
    "            lat='latitude',\n",
    "            lon='longitude',\n",
    "            hover_name='node_name',\n",
    "            hover_data={'latitude': False, 'longitude': False},\n",
    "            color='node_type',  # Map node_type to marker color\n",
    "            color_discrete_map={\n",
    "                'central_hub': 'green',    # Set green color for central_hub\n",
    "                'lm_hub': 'blue',          # Set blue color for lm_hub\n",
    "                'franchise_hub': 'red'  # Set dark yellow color for franchise_hub\n",
    "            },\n",
    "            zoom=10,\n",
    "            height=600\n",
    "        ).update_traces(marker=dict(size=12))  # Adjust the size of the markers here\n",
    "          .update_layout(mapbox_style=\"open-street-map\")\n",
    "    )\n",
    "])\n",
    "\n",
    "# Run the app\n",
    "if __name__ == '__main__':\n",
    "    app.run_server(debug=True)\n"
   ]
  }
 ],
 "metadata": {
  "kernelspec": {
   "display_name": "Python 3 (ipykernel)",
   "language": "python",
   "name": "python3"
  },
  "language_info": {
   "codemirror_mode": {
    "name": "ipython",
    "version": 3
   },
   "file_extension": ".py",
   "mimetype": "text/x-python",
   "name": "python",
   "nbconvert_exporter": "python",
   "pygments_lexer": "ipython3",
   "version": "3.9.6"
  }
 },
 "nbformat": 4,
 "nbformat_minor": 5
}
